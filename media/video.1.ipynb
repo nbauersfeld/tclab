{
 "cells": [
  {
   "cell_type": "code",
   "execution_count": 9,
   "metadata": {},
   "outputs": [
    {
     "name": "stdout",
     "output_type": "stream",
     "text": [
      "author                         NOB\n",
      "version 2023-06-22 03:51:59.186153\n",
      "model               model.q.3.pinn\n",
      "files                           93\n"
     ]
    }
   ],
   "source": [
    "import os,socket\n",
    "import cv2\n",
    "import datetime\n",
    "import numpy as np\n",
    "\n",
    "from matplotlib.ticker import EngFormatter\n",
    "efmt = EngFormatter('B')\n",
    "\n",
    "fext = \".png\"\n",
    "fpath = \"model.q.3.pinn\"\n",
    "froot = os.path.join(os.getcwd(),fpath)\n",
    "fnames = [os.path.join(froot,fname) for fname in os.listdir(froot) if fname.endswith(fext)]\n",
    "\n",
    "print(f\"author  {socket.gethostname():>26}\")\n",
    "print(f\"version {str(datetime.datetime.now()):>26}\")\n",
    "\n",
    "print(f\"model   {fpath:>26}\")\n",
    "print(f\"files   {str(len(fnames)):>26}\")"
   ]
  },
  {
   "attachments": {},
   "cell_type": "markdown",
   "metadata": {},
   "source": [
    "### prepare a video mp4 file by monitored images\n",
    "\n",
    "base generator is tclab.model.animate.3.py   "
   ]
  },
  {
   "cell_type": "code",
   "execution_count": 13,
   "metadata": {},
   "outputs": [
    {
     "name": "stdout",
     "output_type": "stream",
     "text": [
      "video time estimated: 0:01:33, size (w/o zip) estimated: 192.865 MB\n",
      "93 items, 1s duration, 24 fps\n"
     ]
    }
   ],
   "source": [
    "shape = (3200,1108)\n",
    "duration = 1 # duration of one slide in s\n",
    "fps = 24\n",
    "\n",
    "item_count = len(fnames)\n",
    "\n",
    "target_time = str(datetime.timedelta(seconds = duration * item_count))\n",
    "target_size = int(os.path.getsize(fnames[0]) * item_count * fps)\n",
    "\n",
    "print(f\"video time estimated: {target_time}, size (w/o zip) estimated: {efmt(target_size)}\")\n",
    "print(f\"{item_count} items, {duration}s duration, {fps} fps\")\n"
   ]
  },
  {
   "cell_type": "code",
   "execution_count": 6,
   "metadata": {},
   "outputs": [
    {
     "name": "stdout",
     "output_type": "stream",
     "text": [
      "video target c:\\Develop\\vsc\\tclab\\media\\model.q.3.pinn\\model.q.3.pinn.mp4\n",
      "model.q.3.pinn.mp4: 29.1485 MB\n",
      "CPU times: total: 38.4 s\n",
      "Wall time: 51.9 s\n"
     ]
    }
   ],
   "source": [
    "%%time \n",
    "\n",
    "fformat = 'mp4'\n",
    "ftarget = os.path.join(froot,f\"{fpath}.{fformat}\")\n",
    "\n",
    "if fformat == 'mp4':    \n",
    "    fourcc = cv2.VideoWriter.fourcc(*'MP4V')\n",
    "else:\n",
    "    fourcc = cv2.VideoWriter.fourcc(*'XVID')\n",
    "\n",
    "writer = cv2.VideoWriter(ftarget, fourcc, fps, shape)\n",
    "\n",
    "print(f\"video target {ftarget}\")\n",
    "\n",
    "for fname in fnames[:item_count]:\n",
    "\n",
    "    src = cv2.imread(fname)\n",
    "\n",
    "    height, width, _ = src.shape\n",
    "    scale = min(shape[0]/width, shape[1]/height)\n",
    "    size = (int(width*scale), int(height*scale))\n",
    "    src = cv2.resize(src, size)\n",
    "\n",
    "    dst = np.zeros((shape[1], shape[0], 3), dtype='uint8') \n",
    "    \n",
    "    xoff = (shape[0] - size[0]) // 2\n",
    "    yoff = (shape[1] - size[1]) // 2\n",
    "    \n",
    "    dst[yoff:yoff+size[1], xoff:xoff+size[0]] = src\n",
    "        \n",
    "    for _ in range(duration * fps):\n",
    "        writer.write(dst)\n",
    "\n",
    "writer.release()\n",
    "cv2.destroyAllWindows()\n",
    "\n",
    "file_size = os.path.getsize(ftarget)\n",
    "file_name = os.path.basename(ftarget)\n",
    "\n",
    "print(f\"{file_name}: {efmt(file_size)}\")"
   ]
  }
 ],
 "metadata": {
  "kernelspec": {
   "display_name": "venv-inspior",
   "language": "python",
   "name": "python3"
  },
  "language_info": {
   "codemirror_mode": {
    "name": "ipython",
    "version": 3
   },
   "file_extension": ".py",
   "mimetype": "text/x-python",
   "name": "python",
   "nbconvert_exporter": "python",
   "pygments_lexer": "ipython3",
   "version": "3.10.7"
  },
  "orig_nbformat": 4
 },
 "nbformat": 4,
 "nbformat_minor": 2
}

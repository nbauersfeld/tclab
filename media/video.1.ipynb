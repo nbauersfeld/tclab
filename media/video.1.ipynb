{
 "cells": [
  {
   "cell_type": "code",
   "execution_count": 20,
   "metadata": {},
   "outputs": [
    {
     "name": "stdout",
     "output_type": "stream",
     "text": [
      "101 files in 'model.4.6.pinn'\n"
     ]
    }
   ],
   "source": [
    "import os\n",
    "import cv2\n",
    "import datetime\n",
    "import numpy as np\n",
    "\n",
    "from matplotlib.ticker import EngFormatter\n",
    "efmt = EngFormatter('B')\n",
    "\n",
    "fext = \".png\"\n",
    "fpath = \"model.4.6.pinn\"\n",
    "froot = os.path.join(os.getcwd(),fpath)\n",
    "fnames = [os.path.join(froot,fname) for fname in os.listdir(froot) if fname.endswith(fext)]\n",
    "\n",
    "print(f\"{len(fnames)} files in '{fpath}'\")"
   ]
  },
  {
   "cell_type": "code",
   "execution_count": 21,
   "metadata": {},
   "outputs": [
    {
     "name": "stdout",
     "output_type": "stream",
     "text": [
      "video time estimated: 0:01:41, size estimated:  172.974 MB\n",
      "101 items, 1s duration, 24 fps\n"
     ]
    }
   ],
   "source": [
    "shape = (3200,1108)\n",
    "duration = 1 # duration of one slide in s\n",
    "fps = 24\n",
    "\n",
    "item_count = len(fnames)\n",
    "\n",
    "target_time = str(datetime.timedelta(seconds = duration * item_count))\n",
    "target_size = int(os.path.getsize(fnames[0]) * item_count * fps)\n",
    "\n",
    "print(f\"video time estimated: {target_time}, size estimated:  {efmt(target_size)}\")\n",
    "print(f\"{item_count} items, {duration}s duration, {fps} fps\")\n"
   ]
  },
  {
   "cell_type": "code",
   "execution_count": 22,
   "metadata": {},
   "outputs": [
    {
     "name": "stdout",
     "output_type": "stream",
     "text": [
      "video target c:\\Develop\\vsc\\tclab\\media\\model.4.6.pinn\\model.4.6.pinn.mp4\n",
      "model.4.6.pinn.mp4: 31.9039 MB\n"
     ]
    }
   ],
   "source": [
    "\n",
    "fformat = 'mp4'\n",
    "ftarget = os.path.join(froot,f\"{fpath}.{fformat}\")\n",
    "\n",
    "if fformat == 'mp4':    \n",
    "    fourcc = cv2.VideoWriter.fourcc(*'MP4V')\n",
    "else:\n",
    "    fourcc = cv2.VideoWriter.fourcc(*'XVID')\n",
    "\n",
    "writer = cv2.VideoWriter(ftarget, fourcc, fps, shape)\n",
    "\n",
    "print(f\"video target {ftarget}\")\n",
    "\n",
    "for fname in fnames[:item_count]:\n",
    "\n",
    "    src = cv2.imread(fname)\n",
    "\n",
    "    height, width, _ = src.shape\n",
    "    scale = min(shape[0]/width, shape[1]/height)\n",
    "    size = (int(width*scale), int(height*scale))\n",
    "    src = cv2.resize(src, size)\n",
    "\n",
    "    dst = np.zeros((shape[1], shape[0], 3), dtype='uint8') \n",
    "    \n",
    "    xoff = (shape[0] - size[0]) // 2\n",
    "    yoff = (shape[1] - size[1]) // 2\n",
    "    \n",
    "    dst[yoff:yoff+size[1], xoff:xoff+size[0]] = src\n",
    "        \n",
    "    for _ in range(duration * fps):\n",
    "        writer.write(dst)\n",
    "\n",
    "writer.release()\n",
    "cv2.destroyAllWindows()\n",
    "\n",
    "file_size = os.path.getsize(ftarget)\n",
    "file_name = os.path.basename(ftarget)\n",
    "\n",
    "print(f\"{file_name}: {efmt(file_size)}\")"
   ]
  }
 ],
 "metadata": {
  "kernelspec": {
   "display_name": "venv-inspior",
   "language": "python",
   "name": "python3"
  },
  "language_info": {
   "codemirror_mode": {
    "name": "ipython",
    "version": 3
   },
   "file_extension": ".py",
   "mimetype": "text/x-python",
   "name": "python",
   "nbconvert_exporter": "python",
   "pygments_lexer": "ipython3",
   "version": "3.10.7"
  },
  "orig_nbformat": 4
 },
 "nbformat": 4,
 "nbformat_minor": 2
}

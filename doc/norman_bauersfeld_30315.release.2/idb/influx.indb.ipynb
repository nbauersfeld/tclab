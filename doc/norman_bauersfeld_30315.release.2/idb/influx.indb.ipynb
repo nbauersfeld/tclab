{
 "cells": [
  {
   "cell_type": "code",
   "execution_count": 1,
   "metadata": {},
   "outputs": [],
   "source": [
    "from influxdb_client import InfluxDBClient\n",
    "\n",
    "url = \"http://localhost:8086\"\n",
    "\n",
    "# hot-wip\n",
    "#token = \"gCGWIFyp0f0WxPnz3w_k7N993EPqvf-4qit7H8XMs5eoPJx4LdUHNnrc371Vvd6hYAdrBcEm_k89HlIAwUk3LA==\"\n",
    "#org = \"user\"\n",
    "\n",
    "# nob-pch\n",
    "#token = \"JYn7HQ4YRosmEdIAKonWE5KeMNhu28e-p1erovFlDgQPkqbkinUZ_ty-uDbL2eNvuHs_RFE142p5lSi80qTDRg==\"\n",
    "#org = \"tclab\"\n",
    "\n",
    "# nob-nbh\n",
    "token = \"ycHUSYx8Tg91dl41rYndfT0El5dk6kEPZgyZPaSAcoPyf8t5khfshxIS0ISIyw_pLTBhprNvXmfbHQxBTdhrXg==\"\n",
    "org = \"tclab\"\n",
    "\n",
    "import os \n",
    "import json\n",
    "\n",
    "def read_(fname):\n",
    "    rc = \"\"\n",
    "    with open(fname) as f:\n",
    "        rc = f.readlines()\n",
    "    return \"\".join(rc)\n",
    "\n",
    "def write_(tables,fname,verbose=0):\n",
    "    # load json result\n",
    "    output = json.loads(tables.to_json())\n",
    "\n",
    "    ls = \"\\n\"\n",
    "    sep = \"|\"\n",
    "\n",
    "    if verbose: print(f\"write {os.path.basename(fname)}\")\n",
    "\n",
    "    with open(fname,\"w\") as f:\n",
    "        if len(output) > 0:\n",
    "            # header\n",
    "            columns = list(output[0].keys())\n",
    "            _ = [columns.remove(c) for c in ['result']]\n",
    "            rc = sep.join(c for c in columns)\n",
    "            f.write(f\"{rc}{ls}\")\n",
    "            # values\n",
    "            for row in output:\n",
    "                rc = sep.join(str(row[c]) for c in columns)\n",
    "                f.write(f\"{rc}{ls}\")\n",
    "        else:\n",
    "            rc = \"NONE\"\n",
    "            f.write(f\"{rc}{ls}\")\n",
    "\n",
    "    if verbose: print(f\"wrote {len(output)} line(s) of {fname}\")\n"
   ]
  },
  {
   "cell_type": "code",
   "execution_count": 16,
   "metadata": {},
   "outputs": [
    {
     "name": "stdout",
     "output_type": "stream",
     "text": [
      "write 234b.flux.txt\n",
      "wrote 24 line(s) of c:\\Develop\\vsc\\tclab\\idb\\queries\\2\\234b.flux.txt\n",
      "CPU times: total: 15.6 ms\n",
      "Wall time: 73.4 ms\n"
     ]
    }
   ],
   "source": [
    "%%time\n",
    "\n",
    "fpath = os.path.join(os.getcwd(),\"queries\",\"2\")\n",
    "fnames = {fname: os.path.join(fpath,fname) for fname in os.listdir(fpath) if fname.endswith(\".flux\")}\n",
    "fqueries = {fname: read_(fnames[fname]) for fname in fnames.keys()}\n",
    "\n",
    "fname = \"234b.flux\"\n",
    "\n",
    "with InfluxDBClient(url=url, token=token, org=org, debug=False, timeout=240000) as client:\n",
    "    \n",
    "    query_api = client.query_api()        \n",
    "    query = fqueries[fname]\n",
    "\n",
    "    tables = query_api.query(org=org, query=query)\n",
    "    write_(tables, fname=os.path.join(fpath,\"%s.txt\"%(fname)),verbose=1)\n"
   ]
  }
 ],
 "metadata": {
  "kernelspec": {
   "display_name": "venv-tclab",
   "language": "python",
   "name": "python3"
  },
  "language_info": {
   "codemirror_mode": {
    "name": "ipython",
    "version": 3
   },
   "file_extension": ".py",
   "mimetype": "text/x-python",
   "name": "python",
   "nbconvert_exporter": "python",
   "pygments_lexer": "ipython3",
   "version": "3.10.7"
  },
  "orig_nbformat": 4
 },
 "nbformat": 4,
 "nbformat_minor": 2
}

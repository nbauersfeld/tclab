{
 "cells": [
  {
   "cell_type": "code",
   "execution_count": 4,
   "metadata": {},
   "outputs": [],
   "source": [
    "import os\n",
    "import tensorflow as tf\n",
    "import numpy as np\n",
    "import matplotlib.pyplot as plt\n",
    "\n",
    "def model_layers_(model):\n",
    "    layer_items = []\n",
    "    for i,layer in enumerate(model.layers):\n",
    "        name = \"%02d: %s\"%(i,layer.name)\n",
    "        if len(layer.weights)>0:\n",
    "            name = name + \" %s %s\"%(layer.weights[0].numpy().shape,layer.weights[1].numpy().shape)\n",
    "            layer_items.append(\n",
    "                dict(\n",
    "                    weight=layer.weights[0].numpy(),\n",
    "                    bias=layer.weights[1].numpy(),\n",
    "                    name=layer.name\n",
    "                )\n",
    "            )\n",
    "        print(name)\n",
    "    return layer_items"
   ]
  },
  {
   "cell_type": "code",
   "execution_count": 5,
   "metadata": {},
   "outputs": [
    {
     "name": "stdout",
     "output_type": "stream",
     "text": [
      "00: n-pin (1, 20) (20,)\n"
     ]
    }
   ],
   "source": [
    "\n",
    "model_prefix = \"model.4.6\"\n",
    "#model_prefix = \"model.q.3\"\n",
    "\n",
    "\n",
    "model_name = os.path.join(os.getcwd(),\"data\",f\"tclab.{model_prefix}.pinn.tf\")\n",
    "model = tf.keras.models.load_model(model_name, compile=False)\n",
    "\n",
    "layer_items = model_layers_(model)"
   ]
  },
  {
   "cell_type": "code",
   "execution_count": 6,
   "metadata": {},
   "outputs": [
    {
     "data": {
      "image/png": "[encoded data removed]",
      "text/plain": [
       "<Figure size 960x240 with 2 Axes>"
      ]
     },
     "metadata": {},
     "output_type": "display_data"
    }
   ],
   "source": [
    "plt.rcParams[\"font.size\"] = 8\n",
    "plt.rcParams[\"figure.dpi\"] = 80\n",
    "\n",
    "nrows,ncols = len(layer_items),2\n",
    "fig, ax = plt.subplots(nrows=nrows,ncols=ncols,figsize=[6*ncols,3*nrows],tight_layout=True)\n",
    "        \n",
    "ax = ax[np.newaxis,:]\n",
    "\n",
    "bins = 100\n",
    "\n",
    "for j,item in enumerate(layer_items):\n",
    "    \n",
    "    weight = item[\"weight\"].flatten()\n",
    "    bias = item[\"bias\"].flatten()\n",
    "    name = item[\"name\"]\n",
    "\n",
    "    i = 0\n",
    "    yy,xx,pp = ax[j,i].hist(weight,bins=bins)    \n",
    "    ax[j,i].set_xlabel(\"weight\")\n",
    "\n",
    "    ff = yy/yy.max()\n",
    "    for p,f,x in list(zip(pp,ff,xx)):\n",
    "        if (x>-0.01) & (x<0.01):        \n",
    "            p.set_facecolor((192/256,0,0,1))\n",
    "\n",
    "    i = 1\n",
    "    yy,xx,pp = ax[j,i].hist(bias,bins=bins)    \n",
    "    ax[j,i].set_xlabel(\"bias\")\n",
    "\n",
    "    ax[j,0].set_title(f\"layer: {name}, {model_prefix} | weights: {weight.shape[0]}\",x=0,ha=\"left\")\n",
    "    ax[j,1].set_title(f\"bias: {bias.shape[0]}\",x=0,ha=\"left\")\n",
    "\n",
    "plt.suptitle(f\"\",x=0,ha=\"left\")\n",
    "plt.tight_layout()\n",
    "\n",
    "fig.savefig(os.path.join(os.getcwd(),\"data\",f\"tclab.{model_prefix}.pinn.inside.png\"))\n",
    "\n",
    "plt.show()\n",
    "\n",
    "plt.close()\n"
   ]
  }
 ],
 "metadata": {
  "kernelspec": {
   "display_name": "venv-tclab",
   "language": "python",
   "name": "python3"
  },
  "language_info": {
   "codemirror_mode": {
    "name": "ipython",
    "version": 3
   },
   "file_extension": ".py",
   "mimetype": "text/x-python",
   "name": "python",
   "nbconvert_exporter": "python",
   "pygments_lexer": "ipython3",
   "version": "3.10.7"
  },
  "orig_nbformat": 4
 },
 "nbformat": 4,
 "nbformat_minor": 2
}

{
 "cells": [
  {
   "cell_type": "code",
   "execution_count": 25,
   "metadata": {},
   "outputs": [
    {
     "data": {
      "text/plain": [
       "['<body>', '<h1>', '</h1>', '<hr />', '<h2>', '</h2>', '</body>']"
      ]
     },
     "execution_count": 25,
     "metadata": {},
     "output_type": "execute_result"
    }
   ],
   "source": [
    "import re\n",
    "\n",
    "date_pattern = \"(\\d{2})[\\-\\/\\.]?(\\d{2})[\\-\\/\\.]?(\\d{4})\"\n",
    "txt = \"20-02-2019, 20-02-2019, 15/07/2020, 14.09.2021\"\n",
    "re.findall(date_pattern, txt)\n",
    "\n",
    "name_pattern = \"(\\w+)\"\n",
    "txt = \"Smith, Mr. John\" #; Davis, Ms Nicole; Robinsion, Mrs. Rebeccca; Armstrong, Dr Sam; Downey, Mr. Robert;\"\n",
    "re.findall(name_pattern, txt)\n",
    "\n",
    "url_pattern = \"(https?)://(www)?\\.?(\\\\w+)\\.(\\\\w+)/?(\\\\w+)?\"\n",
    "txt = \"https://twitter.com/home\" #https://www.google.com/gmail, http://heise.de, https://twitter.com/home\n",
    "re.findall(url_pattern, txt)\n",
    "\n",
    "email_pattern = \"([a-zA-Z0-9\\_\\-\\.]{3,})@([a-zA-Z]+)\\.(com|de|co)\"\n",
    "txt = \"johndoe@hotmail.com\" #johndoe@hotmail.com, jason-smith@uni.gov.co, xrlab@hs-harz.de\n",
    "re.findall(email_pattern, txt)\n",
    "\n",
    "cats = [\"Hund\", \"Katze\", \"Maus\", \"Wildkatze\", \"Seekuh\", \"Wollmaus\", \"Katzenfutter\"]\n",
    "r = re.compile(\".*(K|k)atze.*\") \n",
    "list(filter(r.match, cats))\n",
    "\n",
    "test_pattern = \"<.+?>\" #\"<.+>\" vs \"<.+?>\"\n",
    "txt = \"<body>\\n<h1>test</h1>\\n<hr />\\n<h2>Text</h2>\\n</body>\"\n",
    "re.findall(test_pattern, txt,re.IGNORECASE)"
   ]
  }
 ],
 "metadata": {
  "kernelspec": {
   "display_name": "venv-tclab",
   "language": "python",
   "name": "python3"
  },
  "language_info": {
   "codemirror_mode": {
    "name": "ipython",
    "version": 3
   },
   "file_extension": ".py",
   "mimetype": "text/x-python",
   "name": "python",
   "nbconvert_exporter": "python",
   "pygments_lexer": "ipython3",
   "version": "3.10.7"
  },
  "orig_nbformat": 4
 },
 "nbformat": 4,
 "nbformat_minor": 2
}

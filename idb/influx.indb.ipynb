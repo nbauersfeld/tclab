{
 "cells": [
  {
   "cell_type": "code",
   "execution_count": 10,
   "metadata": {},
   "outputs": [],
   "source": [
    "from influxdb_client import InfluxDBClient\n",
    "\n",
    "url = \"http://localhost:8086\"\n",
    "\n",
    "# hot\n",
    "token = \"gCGWIFyp0f0WxPnz3w_k7N993EPqvf-4qit7H8XMs5eoPJx4LdUHNnrc371Vvd6hYAdrBcEm_k89HlIAwUk3LA==\"\n",
    "org = \"user\"\n",
    "\n",
    "# nob\n",
    "token = \"JYn7HQ4YRosmEdIAKonWE5KeMNhu28e-p1erovFlDgQPkqbkinUZ_ty-uDbL2eNvuHs_RFE142p5lSi80qTDRg==\"\n",
    "org = \"tclab\"\n",
    "\n",
    "bucket = \"power\"\n",
    "\n",
    "import os \n",
    "import json\n",
    "\n",
    "def read_(fname):\n",
    "    rc = \"\"\n",
    "    with open(fname) as f:\n",
    "        rc = f.readlines()\n",
    "    return \"\".join(rc)\n",
    "\n",
    "def write_(tables, fname):\n",
    "    \n",
    "    output = json.loads(tables.to_json())\n",
    "\n",
    "    ls = \"\\n\"\n",
    "    sep = \"|\"\n",
    "\n",
    "    with open(fname, \"w\") as f:\n",
    "   \n",
    "        columns = list(output[0].keys())\n",
    "        _ = [columns.remove(c) for c in ['result']]\n",
    "        rc = sep.join(c for c in columns)\n",
    "        f.write(f\"{rc}{ls}\")\n",
    "\n",
    "        for row in output:\n",
    "            rc = sep.join(str(row[c]) for c in columns)\n",
    "            f.write(f\"{rc}{ls}\")\n",
    "\n",
    "    print(f\"wrote {len(output)} line(s) of {fname}\")\n"
   ]
  },
  {
   "cell_type": "code",
   "execution_count": 11,
   "metadata": {},
   "outputs": [
    {
     "name": "stdout",
     "output_type": "stream",
     "text": [
      "CPU times: total: 0 ns\n",
      "Wall time: 2.02 ms\n"
     ]
    }
   ],
   "source": [
    "%%time \n",
    "\n",
    "fpath = os.path.join(os.getcwd(),\"queries\")\n",
    "fnames = {fname: os.path.join(fpath,fname) for fname in os.listdir(fpath) if fname.endswith(\".flux\")}\n",
    "fqueries = {fname: read_(fnames[fname]) for fname in fnames.keys()}"
   ]
  },
  {
   "cell_type": "code",
   "execution_count": 12,
   "metadata": {},
   "outputs": [
    {
     "name": "stdout",
     "output_type": "stream",
     "text": [
      "wrote 4 line(s) of c:\\Develop\\vsc\\tclab\\idb\\queries\\234b.flux.txt\n",
      "CPU times: total: 0 ns\n",
      "Wall time: 87.6 ms\n"
     ]
    }
   ],
   "source": [
    "%%time\n",
    "\n",
    "fname = \"234b.flux\"\n",
    "\n",
    "with InfluxDBClient(url=url, token=token, org=org, debug=False, timeout=240000) as client:\n",
    "    \n",
    "    query_api = client.query_api()        \n",
    "    query = fqueries[fname]\n",
    "\n",
    "    tables = query_api.query(org=org, query=query)\n",
    "    write_(tables, fname=os.path.join(fpath,\"%s.txt\"%(fname)))\n"
   ]
  }
 ],
 "metadata": {
  "kernelspec": {
   "display_name": "venv-tclab",
   "language": "python",
   "name": "python3"
  },
  "language_info": {
   "codemirror_mode": {
    "name": "ipython",
    "version": 3
   },
   "file_extension": ".py",
   "mimetype": "text/x-python",
   "name": "python",
   "nbconvert_exporter": "python",
   "pygments_lexer": "ipython3",
   "version": "3.10.7"
  },
  "orig_nbformat": 4
 },
 "nbformat": 4,
 "nbformat_minor": 2
}

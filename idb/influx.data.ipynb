{
 "cells": [
  {
   "cell_type": "code",
   "execution_count": 1,
   "metadata": {},
   "outputs": [],
   "source": [
    "import pandas as pd\n",
    "import os \n",
    "import numpy as np\n",
    "\n",
    "fpath = os.path.join(os.getcwd(),\"data\")\n",
    "\n",
    "fpower = os.path.join(fpath, \"230420 influx - LabHS - power shellies.csv\")\n",
    "ffactory = os.path.join(fpath, \"230420 influx - AFB.csv\")"
   ]
  },
  {
   "attachments": {},
   "cell_type": "markdown",
   "metadata": {},
   "source": [
    "#### power"
   ]
  },
  {
   "cell_type": "code",
   "execution_count": 4,
   "metadata": {},
   "outputs": [
    {
     "name": "stdout",
     "output_type": "stream",
     "text": [
      "<class 'pandas.core.frame.DataFrame'>\n",
      "RangeIndex: 260909 entries, 0 to 260908\n",
      "Data columns (total 12 columns):\n",
      " #   Column        Non-Null Count   Dtype              \n",
      "---  ------        --------------   -----              \n",
      " 0   table         260909 non-null  int64              \n",
      " 1   _start        260909 non-null  datetime64[ns, UTC]\n",
      " 2   _stop         260909 non-null  datetime64[ns, UTC]\n",
      " 3   _time         260909 non-null  datetime64[ns, UTC]\n",
      " 4   _value        260909 non-null  float64            \n",
      " 5   Device        260909 non-null  object             \n",
      " 6   Location      260909 non-null  int64              \n",
      " 7   Sensor        260909 non-null  object             \n",
      " 8   _field        260909 non-null  object             \n",
      " 9   _measurement  260909 non-null  object             \n",
      " 10  host          260909 non-null  object             \n",
      " 11  topic         260909 non-null  object             \n",
      "dtypes: datetime64[ns, UTC](3), float64(1), int64(2), object(6)\n",
      "memory usage: 23.9+ MB\n"
     ]
    }
   ],
   "source": [
    "power = pd.read_csv(fpower,skiprows=3)\n",
    "power = power.drop(columns=['Unnamed: 0','result'])\n",
    "\n",
    "for c in ['_start','_stop','_time']: power[c] = pd.to_datetime(power[c])\n",
    "power.info()\n",
    "\n",
    "pd.DataFrame.to_csv(power, os.path.join(fpath, \"power.csv\"), index=None)"
   ]
  },
  {
   "cell_type": "code",
   "execution_count": 5,
   "metadata": {},
   "outputs": [
    {
     "data": {
      "text/plain": [
       "(Timestamp('2023-04-04 16:09:25.378702087+0000', tz='UTC'),\n",
       " Timestamp('2023-04-20 09:57:50.383191985+0000', tz='UTC'),\n",
       " numpy.timedelta64(1360105,'ns'))"
      ]
     },
     "execution_count": 5,
     "metadata": {},
     "output_type": "execute_result"
    }
   ],
   "source": [
    "power_time_min = power['_time'].min()\n",
    "power_time_max = power['_time'].max()\n",
    "\n",
    "power_time_range = power_time_max - power_time_min\n",
    "power_time_range = (power_time_range / 1e9)\n",
    "\n",
    "power_time_min ,power_time_max ,power_time_range.to_timedelta64()\n"
   ]
  },
  {
   "cell_type": "code",
   "execution_count": 6,
   "metadata": {},
   "outputs": [
    {
     "name": "stdout",
     "output_type": "stream",
     "text": [
      "|    |   _time_hour |              sum |\n",
      "|---:|-------------:|-----------------:|\n",
      "|  0 |            0 | 803179           |\n",
      "|  1 |            1 | 832385           |\n",
      "|  2 |            2 | 824132           |\n",
      "|  3 |            3 | 820674           |\n",
      "|  4 |            4 | 847309           |\n",
      "|  5 |            5 | 825616           |\n",
      "|  6 |            6 | 824371           |\n",
      "|  7 |            7 | 817318           |\n",
      "|  8 |            8 | 852501           |\n",
      "|  9 |            9 | 847811           |\n",
      "| 10 |           10 | 819008           |\n",
      "| 11 |           11 | 847201           |\n",
      "| 12 |           12 | 951188           |\n",
      "| 13 |           13 | 899599           |\n",
      "| 14 |           14 | 866023           |\n",
      "| 15 |           15 | 860788           |\n",
      "| 16 |           16 | 840408           |\n",
      "| 17 |           17 | 850406           |\n",
      "| 18 |           18 | 853921           |\n",
      "| 19 |           19 | 842527           |\n",
      "| 20 |           20 | 833393           |\n",
      "| 21 |           21 | 833814           |\n",
      "| 22 |           22 | 874689           |\n",
      "| 23 |           23 |      1.50007e+06 |\n"
     ]
    }
   ],
   "source": [
    "power['_time_hour'] = power['_time'].dt.hour.to_numpy()\n",
    "\n",
    "power_per_hour = power.groupby('_time_hour')['_value'].agg(['sum']).reset_index()\n",
    "print(power_per_hour.to_markdown())"
   ]
  },
  {
   "cell_type": "code",
   "execution_count": 40,
   "metadata": {},
   "outputs": [
    {
     "name": "stdout",
     "output_type": "stream",
     "text": [
      "|    |   _time_hour |   Location |              sum |\n",
      "|---:|-------------:|-----------:|-----------------:|\n",
      "|  0 |            0 |       9306 |  65426.3         |\n",
      "|  3 |            1 |       9306 |  68697.7         |\n",
      "|  6 |            2 |       9306 |  68048.4         |\n",
      "|  9 |            3 |       9306 |  72934.1         |\n",
      "| 12 |            4 |       9306 |  61431           |\n",
      "| 15 |            5 |       9306 |  61637.4         |\n",
      "| 18 |            6 |       9306 |  62849.9         |\n",
      "| 21 |            7 |       9306 |  71302.5         |\n",
      "| 24 |            8 |       9306 |  72155           |\n",
      "| 27 |            9 |       9306 |  64425.2         |\n",
      "| 30 |           10 |       9306 |  61947           |\n",
      "| 33 |           11 |       9306 |  59908.4         |\n",
      "| 36 |           12 |       9306 |  71360           |\n",
      "| 39 |           13 |       9306 |  64117           |\n",
      "| 42 |           14 |       9306 |  64187.7         |\n",
      "| 45 |           15 |       9306 |  61895.6         |\n",
      "| 48 |           16 |       9306 |  65677.5         |\n",
      "| 51 |           17 |       9306 |  66419.6         |\n",
      "| 54 |           18 |       9306 |  68582.6         |\n",
      "| 57 |           19 |       9306 |  65887.6         |\n",
      "| 60 |           20 |       9306 |  71636.9         |\n",
      "| 63 |           21 |       9306 |  70772.3         |\n",
      "| 66 |           22 |       9306 |  63865.9         |\n",
      "| 69 |           23 |       9306 |  62064           |\n",
      "|  1 |            0 |       9307 |  14234.1         |\n",
      "|  4 |            1 |       9307 |  13695.1         |\n",
      "|  7 |            2 |       9307 |  14619.2         |\n",
      "| 10 |            3 |       9307 |  13769.2         |\n",
      "| 13 |            4 |       9307 |  13832.4         |\n",
      "| 16 |            5 |       9307 |  14493.2         |\n",
      "| 19 |            6 |       9307 |  14409.5         |\n",
      "| 22 |            7 |       9307 |  14844.4         |\n",
      "| 25 |            8 |       9307 |  27983.6         |\n",
      "| 28 |            9 |       9307 |  28578.8         |\n",
      "| 31 |           10 |       9307 |  40431.5         |\n",
      "| 34 |           11 |       9307 |  69337.1         |\n",
      "| 37 |           12 |       9307 | 149365           |\n",
      "| 40 |           13 |       9307 | 121061           |\n",
      "| 43 |           14 |       9307 |  94980.9         |\n",
      "| 46 |           15 |       9307 | 112854           |\n",
      "| 49 |           16 |       9307 |  41771.2         |\n",
      "| 52 |           17 |       9307 |  36100.5         |\n",
      "| 55 |           18 |       9307 |  31303.9         |\n",
      "| 58 |           19 |       9307 |  48474.9         |\n",
      "| 61 |           20 |       9307 |  31308.4         |\n",
      "| 64 |           21 |       9307 |  31320.8         |\n",
      "| 67 |           22 |       9307 |  35376           |\n",
      "| 70 |           23 |       9307 |  14581.6         |\n",
      "|  2 |            0 |       9308 | 723519           |\n",
      "|  5 |            1 |       9308 | 749992           |\n",
      "|  8 |            2 |       9308 | 741464           |\n",
      "| 11 |            3 |       9308 | 733971           |\n",
      "| 14 |            4 |       9308 | 772045           |\n",
      "| 17 |            5 |       9308 | 749486           |\n",
      "| 20 |            6 |       9308 | 747112           |\n",
      "| 23 |            7 |       9308 | 731171           |\n",
      "| 26 |            8 |       9308 | 752362           |\n",
      "| 29 |            9 |       9308 | 754807           |\n",
      "| 32 |           10 |       9308 | 716629           |\n",
      "| 35 |           11 |       9308 | 717956           |\n",
      "| 38 |           12 |       9308 | 730463           |\n",
      "| 41 |           13 |       9308 | 714421           |\n",
      "| 44 |           14 |       9308 | 706855           |\n",
      "| 47 |           15 |       9308 | 686038           |\n",
      "| 50 |           16 |       9308 | 732959           |\n",
      "| 53 |           17 |       9308 | 747886           |\n",
      "| 56 |           18 |       9308 | 754034           |\n",
      "| 59 |           19 |       9308 | 728165           |\n",
      "| 62 |           20 |       9308 | 730448           |\n",
      "| 65 |           21 |       9308 | 731720           |\n",
      "| 68 |           22 |       9308 | 775447           |\n",
      "| 71 |           23 |       9308 |      1.42342e+06 |\n"
     ]
    }
   ],
   "source": [
    "power_per_hour_location = power.groupby(['_time_hour','Location'])['_value'].agg(['sum']).reset_index()\n",
    "\n",
    "print(power_per_hour_location.sort_values(by=['Location','_time_hour']).to_markdown())"
   ]
  },
  {
   "cell_type": "code",
   "execution_count": 48,
   "metadata": {},
   "outputs": [
    {
     "name": "stdout",
     "output_type": "stream",
     "text": [
      "devices: ['TraverseFlur' 'XRCool' 'XRL08' 'server1' 'server2' 'xair']\n"
     ]
    }
   ],
   "source": [
    "print(f\"devices: {power['Device'].unique()}\")"
   ]
  },
  {
   "cell_type": "code",
   "execution_count": 69,
   "metadata": {},
   "outputs": [
    {
     "name": "stdout",
     "output_type": "stream",
     "text": [
      "server(1,2) power consumtion: 18352373.510\n"
     ]
    }
   ],
   "source": [
    "power_server = power.loc[power['Device'].isin(['server1', 'server2']),:]\n",
    "\n",
    "print(f\"server(1,2) power consumtion: {power_server._value.sum():.3f}\")"
   ]
  },
  {
   "cell_type": "code",
   "execution_count": 70,
   "metadata": {},
   "outputs": [
    {
     "name": "stdout",
     "output_type": "stream",
     "text": [
      "xair change 2023-04-05 07:50:39.828265379+00:00\n",
      "power consumtion increase by accelerator from 77.863 up to 80.484\n"
     ]
    }
   ],
   "source": [
    "# power of grafic accelerator \n",
    "\n",
    "power_acc = power.loc[(power['Device']=='xair') & (power['_value'] > 0),:]\n",
    "\n",
    "print(f\"xair change {power_acc['_time'].min()}\")\n",
    "\n",
    "power_consumtion_before = power[power['_time']<power_acc['_time'].min()]._value.mean()\n",
    "power_consumtion_after = power[power['_time']>=power_acc['_time'].min()]._value.mean()\n",
    "\n",
    "print(f\"power consumtion increase by accelerator from {power_consumtion_before:.3f} up to {power_consumtion_after:.3f}\")"
   ]
  },
  {
   "cell_type": "code",
   "execution_count": 19,
   "metadata": {},
   "outputs": [
    {
     "data": {
      "text/html": [
       "<div>\n",
       "<style scoped>\n",
       "    .dataframe tbody tr th:only-of-type {\n",
       "        vertical-align: middle;\n",
       "    }\n",
       "\n",
       "    .dataframe tbody tr th {\n",
       "        vertical-align: top;\n",
       "    }\n",
       "\n",
       "    .dataframe thead th {\n",
       "        text-align: right;\n",
       "    }\n",
       "</style>\n",
       "<table border=\"1\" class=\"dataframe\">\n",
       "  <thead>\n",
       "    <tr style=\"text-align: right;\">\n",
       "      <th></th>\n",
       "      <th>table</th>\n",
       "      <th>_start</th>\n",
       "      <th>_stop</th>\n",
       "      <th>_time</th>\n",
       "      <th>_value</th>\n",
       "      <th>Device</th>\n",
       "      <th>Location</th>\n",
       "      <th>Sensor</th>\n",
       "      <th>_field</th>\n",
       "      <th>_measurement</th>\n",
       "      <th>host</th>\n",
       "      <th>topic</th>\n",
       "    </tr>\n",
       "  </thead>\n",
       "  <tbody>\n",
       "    <tr>\n",
       "      <th>177634</th>\n",
       "      <td>3</td>\n",
       "      <td>2023-04-04 16:09:25.378000+00:00</td>\n",
       "      <td>2023-04-20 09:58:05.247037641+00:00</td>\n",
       "      <td>2023-04-13 11:58:46.866152481+00:00</td>\n",
       "      <td>185.44</td>\n",
       "      <td>server1</td>\n",
       "      <td>9308</td>\n",
       "      <td>power</td>\n",
       "      <td>value</td>\n",
       "      <td>shellies</td>\n",
       "      <td>XRMAINServer</td>\n",
       "      <td>shellies/9308/server1/relay/0/power</td>\n",
       "    </tr>\n",
       "  </tbody>\n",
       "</table>\n",
       "</div>"
      ],
      "text/plain": [
       "        table                           _start   \n",
       "177634      3 2023-04-04 16:09:25.378000+00:00  \\\n",
       "\n",
       "                                     _stop   \n",
       "177634 2023-04-20 09:58:05.247037641+00:00  \\\n",
       "\n",
       "                                     _time  _value   Device  Location Sensor   \n",
       "177634 2023-04-13 11:58:46.866152481+00:00  185.44  server1      9308  power  \\\n",
       "\n",
       "       _field _measurement          host                                topic  \n",
       "177634  value     shellies  XRMAINServer  shellies/9308/server1/relay/0/power  "
      ]
     },
     "execution_count": 19,
     "metadata": {},
     "output_type": "execute_result"
    }
   ],
   "source": [
    "power_srv = power.loc[power['Device']=='server1',:].reindex()\n",
    "\n",
    "outlier_value = 175\n",
    "outlier_correction = 25\n",
    "\n",
    "# correct outlier\n",
    "power_srv.loc[power_srv['_value'] > outlier_value,'_value'] = power_srv.loc[power_srv['_value'] > outlier_value,'_value'].to_numpy() - outlier_correction\n",
    "\n",
    "power_srv.loc[(power_srv['_value'] > outlier_value) \n",
    "              & ~(power_srv['_time'].dt.hour.isin([22,23,24,0,1,2,3]))\n",
    "              ,:]\n"
   ]
  },
  {
   "attachments": {},
   "cell_type": "markdown",
   "metadata": {},
   "source": [
    "### factory"
   ]
  },
  {
   "cell_type": "code",
   "execution_count": 2,
   "metadata": {},
   "outputs": [
    {
     "name": "stdout",
     "output_type": "stream",
     "text": [
      "<class 'pandas.core.frame.DataFrame'>\n",
      "RangeIndex: 31317 entries, 0 to 31316\n",
      "Data columns (total 11 columns):\n",
      " #   Column        Non-Null Count  Dtype              \n",
      "---  ------        --------------  -----              \n",
      " 0   table         31317 non-null  int64              \n",
      " 1   _start        31317 non-null  datetime64[ns, UTC]\n",
      " 2   _stop         31317 non-null  datetime64[ns, UTC]\n",
      " 3   _time         31317 non-null  datetime64[ns, UTC]\n",
      " 4   _value        31317 non-null  int64              \n",
      " 5   Assembly      31317 non-null  object             \n",
      " 6   Signal        31317 non-null  object             \n",
      " 7   _field        31317 non-null  object             \n",
      " 8   _measurement  31317 non-null  object             \n",
      " 9   host          31317 non-null  object             \n",
      " 10  topic         31317 non-null  object             \n",
      "dtypes: datetime64[ns, UTC](3), int64(2), object(6)\n",
      "memory usage: 2.6+ MB\n"
     ]
    }
   ],
   "source": [
    "factory = pd.read_csv(ffactory,skiprows=3)\n",
    "factory = factory.drop(columns=['Unnamed: 0','result'])\n",
    "\n",
    "for c in ['_start','_stop','_time']:\n",
    "    factory[c] = pd.to_datetime(factory[c])\n",
    "\n",
    "factory.info()\n",
    "\n",
    "pd.DataFrame.to_csv(factory, os.path.join(fpath, \"factory.csv\"), index=None)"
   ]
  },
  {
   "cell_type": "code",
   "execution_count": 3,
   "metadata": {},
   "outputs": [
    {
     "name": "stdout",
     "output_type": "stream",
     "text": [
      "time range 0 days 03:58:55.391193769\n"
     ]
    },
    {
     "data": {
      "text/plain": [
       "(Timestamp('2023-04-12 07:24:48.807770123+0000', tz='UTC'),\n",
       " Timestamp('2023-04-12 11:23:44.198963892+0000', tz='UTC'),\n",
       " numpy.timedelta64(14335,'ns'))"
      ]
     },
     "execution_count": 3,
     "metadata": {},
     "output_type": "execute_result"
    }
   ],
   "source": [
    "# \n",
    "\n",
    "factory_time_range = factory['_time'].max() - factory['_time'].min()\n",
    "print(f\"time range {factory_time_range}\")\n",
    "\n",
    "factory_time_min = factory['_time'].min()\n",
    "factory_time_max = factory['_time'].max()\n",
    "\n",
    "factory_time_range = factory_time_max - factory_time_min\n",
    "factory_time_range = (factory_time_range / 1e9)\n",
    "\n",
    "factory_time_min ,factory_time_max ,factory_time_range.to_timedelta64()"
   ]
  },
  {
   "cell_type": "code",
   "execution_count": 113,
   "metadata": {},
   "outputs": [
    {
     "name": "stdout",
     "output_type": "stream",
     "text": [
      "|    | Assembly     |   Signal |\n",
      "|---:|:-------------|---------:|\n",
      "|  0 | Conveyor     |       54 |\n",
      "|  1 | Distributing |       19 |\n",
      "|  2 | Filling      |       37 |\n",
      "|  3 | InOut        |        1 |\n",
      "|  4 | Packaging    |       20 |\n",
      "|  5 | Separating   |       14 |\n",
      "|  6 | Unpacking    |       22 |\n",
      "signals: 138\n"
     ]
    }
   ],
   "source": [
    "factory_assembly_signal = factory[['Assembly','Signal']].groupby('Assembly').agg({'Signal':pd.Series.nunique}).reset_index()\n",
    "print(factory_assembly_signal.to_markdown())\n",
    "print(f\"signals: {len(factory['Signal'].unique())}\")"
   ]
  },
  {
   "cell_type": "code",
   "execution_count": 126,
   "metadata": {},
   "outputs": [
    {
     "name": "stdout",
     "output_type": "stream",
     "text": [
      "[ 5 20 12 10] count 4\n"
     ]
    }
   ],
   "source": [
    "lories = factory.loc[(factory['Signal']=='KameraP') & (factory['_value']!=0),'_value'].unique()\n",
    "print(f\"{lories} count {len(lories)}\")"
   ]
  },
  {
   "cell_type": "code",
   "execution_count": 230,
   "metadata": {},
   "outputs": [
    {
     "data": {
      "text/html": [
       "<div>\n",
       "<style scoped>\n",
       "    .dataframe tbody tr th:only-of-type {\n",
       "        vertical-align: middle;\n",
       "    }\n",
       "\n",
       "    .dataframe tbody tr th {\n",
       "        vertical-align: top;\n",
       "    }\n",
       "\n",
       "    .dataframe thead th {\n",
       "        text-align: right;\n",
       "    }\n",
       "</style>\n",
       "<table border=\"1\" class=\"dataframe\">\n",
       "  <thead>\n",
       "    <tr style=\"text-align: right;\">\n",
       "      <th></th>\n",
       "      <th>lorry</th>\n",
       "      <th>_mean</th>\n",
       "      <th>_dev</th>\n",
       "      <th>_count</th>\n",
       "    </tr>\n",
       "  </thead>\n",
       "  <tbody>\n",
       "    <tr>\n",
       "      <th>0</th>\n",
       "      <td>5</td>\n",
       "      <td>61.775561</td>\n",
       "      <td>2.974102</td>\n",
       "      <td>13</td>\n",
       "    </tr>\n",
       "    <tr>\n",
       "      <th>1</th>\n",
       "      <td>10</td>\n",
       "      <td>61.823726</td>\n",
       "      <td>3.430666</td>\n",
       "      <td>11</td>\n",
       "    </tr>\n",
       "    <tr>\n",
       "      <th>2</th>\n",
       "      <td>12</td>\n",
       "      <td>62.279425</td>\n",
       "      <td>3.227177</td>\n",
       "      <td>11</td>\n",
       "    </tr>\n",
       "    <tr>\n",
       "      <th>3</th>\n",
       "      <td>20</td>\n",
       "      <td>61.774972</td>\n",
       "      <td>3.293820</td>\n",
       "      <td>13</td>\n",
       "    </tr>\n",
       "  </tbody>\n",
       "</table>\n",
       "</div>"
      ],
      "text/plain": [
       "   lorry      _mean      _dev  _count\n",
       "0      5  61.775561  2.974102      13\n",
       "1     10  61.823726  3.430666      11\n",
       "2     12  62.279425  3.227177      11\n",
       "3     20  61.774972  3.293820      13"
      ]
     },
     "execution_count": 230,
     "metadata": {},
     "output_type": "execute_result"
    }
   ],
   "source": [
    "cycles = factory.loc[(factory['Signal']=='KameraP') & (factory['_value']!=0),['_time','_value']].sort_values(by=['_value','_time'])\n",
    "\n",
    "cycles['dt'] = (cycles['_time'] - cycles['_time'].shift(1)).dt.total_seconds()\n",
    "cycles.loc[(cycles['dt'] > 100) | (cycles['dt'] < 0),'dt'] = np.NaN\n",
    "\n",
    "cycles = cycles[['_value','dt']].groupby(by=['_value'])['dt'].agg(['mean','std','count']).reset_index()\n",
    "cycles.columns = ['lorry','_mean','_dev','_count']\n",
    "\n",
    "cycles"
   ]
  },
  {
   "cell_type": "code",
   "execution_count": 7,
   "metadata": {},
   "outputs": [
    {
     "name": "stdout",
     "output_type": "stream",
     "text": [
      "05 |-4-| 07:28:48 12.04.2023\n",
      "20 |-4-| 07:29:01 12.04.2023\n",
      "12 |-4-| 07:29:13 12.04.2023\n",
      "10 |-4-| 07:29:39 12.04.2023\n",
      "05 |-4-| 07:29:51 12.04.2023\n",
      "20 |-4-| 07:30:04 12.04.2023\n",
      "12 |-4-| 07:30:16 12.04.2023\n",
      "10 |-4-| 07:30:37 12.04.2023\n",
      "05 |-4-| 07:30:49 12.04.2023\n",
      "20 |-4-| 07:31:09 12.04.2023\n",
      "12 |-4-| 07:31:21 12.04.2023\n",
      "10 |-4-| 07:31:36 12.04.2023\n",
      "05 |-4-| 07:31:48 12.04.2023\n",
      "20 |-4-| 07:32:09 12.04.2023\n",
      "12 |-4-| 07:32:21 12.04.2023\n",
      "10 |-4-| 07:32:35 12.04.2023\n",
      "05 |-4-| 07:32:47 12.04.2023\n",
      "20 |-4-| 07:33:09 12.04.2023\n",
      "12 |-4-| 07:33:21 12.04.2023\n",
      "10 |-4-| 07:33:34 12.04.2023\n",
      "05 |-4-| 07:33:46 12.04.2023\n",
      "20 |-4-| 07:34:15 12.04.2023\n",
      "12 |-4-| 07:34:27 12.04.2023\n",
      "10 |-4-| 07:34:41 12.04.2023\n",
      "05 |-4-| 07:34:52 12.04.2023\n",
      "20 |-4-| 07:35:18 12.04.2023\n",
      "12 |-4-| 07:35:30 12.04.2023\n",
      "10 |-4-| 07:35:45 12.04.2023\n",
      "05 |-4-| 07:35:57 12.04.2023\n",
      "20 |-4-| 07:36:16 12.04.2023\n",
      "12 |-8-| 07:36:28 12.04.2023\n",
      "05 |-4-| 07:36:57 12.04.2023\n",
      "20 |-8-| 07:37:17 12.04.2023\n",
      "10 |-4-| 09:03:12 12.04.2023\n",
      "05 |-4-| 09:03:24 12.04.2023\n",
      "20 |-4-| 09:03:52 12.04.2023\n",
      "12 |-4-| 09:04:04 12.04.2023\n",
      "10 |-4-| 09:04:16 12.04.2023\n",
      "05 |-4-| 09:04:28 12.04.2023\n",
      "20 |-4-| 09:04:55 12.04.2023\n",
      "12 |-4-| 09:05:07 12.04.2023\n",
      "10 |-4-| 09:05:22 12.04.2023\n",
      "05 |-4-| 09:05:34 12.04.2023\n",
      "20 |-4-| 09:05:53 12.04.2023\n",
      "12 |-4-| 09:06:05 12.04.2023\n",
      "10 |-4-| 09:06:23 12.04.2023\n",
      "05 |-4-| 09:06:35 12.04.2023\n",
      "20 |-4-| 09:06:54 12.04.2023\n",
      "12 |-4-| 09:07:06 12.04.2023\n",
      "10 |-4-| 09:07:21 12.04.2023\n",
      "05 |-4-| 09:07:34 12.04.2023\n",
      "20 |-4-| 09:08:02 12.04.2023\n",
      "12 |-4-| 09:08:14 12.04.2023\n",
      "10 |-2-| 09:08:26 12.04.2023\n"
     ]
    }
   ],
   "source": [
    "frame = factory.loc[(factory['Signal'].isin(['KameraP','10B3'])) & (factory['Assembly'].isin(['Packaging','Conveyor'])),['_time','Signal','Assembly','_value']]\n",
    "frame = frame[((frame['_value']!=0) & (frame['Signal']=='KameraP') & (frame['Assembly']=='Packaging')) | ((frame['Signal']=='10B3') & (frame['Assembly']=='Conveyor'))]\n",
    "frame = frame.sort_values(by=['_time']).reset_index().drop(columns=['index'])\n",
    "\n",
    "index = frame[(frame['Signal']=='KameraP') & (frame['Assembly']=='Packaging')].index\n",
    "\n",
    "for k in list(zip(index[::1],index[1:-1:1])): \n",
    "    _id = frame.iloc[k[0],:]._value\n",
    "    _value = frame.iloc[k[0]+1:k[1]-1,:]._value.sum()\n",
    "    _time = frame.iloc[k[0],:]._time\n",
    "    print(f\"{_id:02d} |-{_value:1d}-| {_time.strftime('%H:%M:%S %d.%m.%Y')}\")\n"
   ]
  }
 ],
 "metadata": {
  "kernelspec": {
   "display_name": "venv-tclab",
   "language": "python",
   "name": "python3"
  },
  "language_info": {
   "codemirror_mode": {
    "name": "ipython",
    "version": 3
   },
   "file_extension": ".py",
   "mimetype": "text/x-python",
   "name": "python",
   "nbconvert_exporter": "python",
   "pygments_lexer": "ipython3",
   "version": "3.10.7"
  },
  "orig_nbformat": 4
 },
 "nbformat": 4,
 "nbformat_minor": 2
}
